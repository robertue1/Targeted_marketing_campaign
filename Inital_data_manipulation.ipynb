{
 "cells": [
  {
   "cell_type": "code",
   "execution_count": 1,
   "id": "eaf2ba1b",
   "metadata": {},
   "outputs": [],
   "source": [
    "import pandas as pd\n",
    "import pandas as pd\n",
    "import numpy as np\n",
    "\n",
    "import matplotlib.pyplot as plt\n",
    "%matplotlib inline\n",
    "import seaborn as sns"
   ]
  },
  {
   "cell_type": "code",
   "execution_count": 2,
   "id": "43d7f7f1",
   "metadata": {},
   "outputs": [],
   "source": [
    "df = pd.read_csv(\"Data2.csv\") #Electric Vehicle Title and Registration Activity"
   ]
  },
  {
   "cell_type": "code",
   "execution_count": 3,
   "id": "609037f7",
   "metadata": {},
   "outputs": [
    {
     "data": {
      "text/html": [
       "<div>\n",
       "<style scoped>\n",
       "    .dataframe tbody tr th:only-of-type {\n",
       "        vertical-align: middle;\n",
       "    }\n",
       "\n",
       "    .dataframe tbody tr th {\n",
       "        vertical-align: top;\n",
       "    }\n",
       "\n",
       "    .dataframe thead th {\n",
       "        text-align: right;\n",
       "    }\n",
       "</style>\n",
       "<table border=\"1\" class=\"dataframe\">\n",
       "  <thead>\n",
       "    <tr style=\"text-align: right;\">\n",
       "      <th></th>\n",
       "      <th>Clean Alternative Fuel Vehicle Type</th>\n",
       "      <th>VIN (1-10)</th>\n",
       "      <th>Model Year</th>\n",
       "      <th>Make</th>\n",
       "      <th>Model</th>\n",
       "      <th>New or Used Vehicle</th>\n",
       "      <th>Sale Price</th>\n",
       "      <th>DOL Transaction Date</th>\n",
       "      <th>Transaction Type</th>\n",
       "      <th>Transaction Year</th>\n",
       "      <th>...</th>\n",
       "      <th>DOL Vehicle ID</th>\n",
       "      <th>Legislative District</th>\n",
       "      <th>2019 HB 2042 Clean Alternative Fuel Vehicle (CAFV) Eligibility</th>\n",
       "      <th>Meets 2019 HB 2042 Electric Range Requirement</th>\n",
       "      <th>Meets 2019 HB 2042 Sale Date Requirement</th>\n",
       "      <th>Meets 2019 HB 2042 Sale Price/Value Requirement</th>\n",
       "      <th>Odometer Reading</th>\n",
       "      <th>Odometer Code</th>\n",
       "      <th>Transportation Electrification Fee Paid</th>\n",
       "      <th>Hybrid Vehicle Electrification Fee Paid</th>\n",
       "    </tr>\n",
       "  </thead>\n",
       "  <tbody>\n",
       "    <tr>\n",
       "      <th>0</th>\n",
       "      <td>Battery Electric Vehicle (BEV)</td>\n",
       "      <td>5YJXCDE22G</td>\n",
       "      <td>2016</td>\n",
       "      <td>TESLA</td>\n",
       "      <td>Model X</td>\n",
       "      <td>New</td>\n",
       "      <td>0</td>\n",
       "      <td>March 08 2017</td>\n",
       "      <td>Original Registration</td>\n",
       "      <td>2017</td>\n",
       "      <td>...</td>\n",
       "      <td>9059788</td>\n",
       "      <td>41.0</td>\n",
       "      <td>TRANSACTION NOT ELIGIBLE: Non-sale, registrati...</td>\n",
       "      <td>True</td>\n",
       "      <td>False</td>\n",
       "      <td>False</td>\n",
       "      <td>0</td>\n",
       "      <td>Odometer reading is not collected at time of r...</td>\n",
       "      <td>No</td>\n",
       "      <td>No</td>\n",
       "    </tr>\n",
       "    <tr>\n",
       "      <th>1</th>\n",
       "      <td>Battery Electric Vehicle (BEV)</td>\n",
       "      <td>3C3CFFGE8D</td>\n",
       "      <td>2013</td>\n",
       "      <td>FIAT</td>\n",
       "      <td>500</td>\n",
       "      <td>Used</td>\n",
       "      <td>0</td>\n",
       "      <td>February 09 2017</td>\n",
       "      <td>Original Registration</td>\n",
       "      <td>2017</td>\n",
       "      <td>...</td>\n",
       "      <td>116849386</td>\n",
       "      <td>48.0</td>\n",
       "      <td>TRANSACTION NOT ELIGIBLE: Non-sale, registrati...</td>\n",
       "      <td>True</td>\n",
       "      <td>False</td>\n",
       "      <td>False</td>\n",
       "      <td>0</td>\n",
       "      <td>Odometer reading is not collected at time of r...</td>\n",
       "      <td>No</td>\n",
       "      <td>No</td>\n",
       "    </tr>\n",
       "    <tr>\n",
       "      <th>2</th>\n",
       "      <td>Battery Electric Vehicle (BEV)</td>\n",
       "      <td>1N4AZ0CP6E</td>\n",
       "      <td>2014</td>\n",
       "      <td>NISSAN</td>\n",
       "      <td>Leaf</td>\n",
       "      <td>Used</td>\n",
       "      <td>0</td>\n",
       "      <td>January 05 2017</td>\n",
       "      <td>Original Registration</td>\n",
       "      <td>2017</td>\n",
       "      <td>...</td>\n",
       "      <td>102634059</td>\n",
       "      <td>34.0</td>\n",
       "      <td>TRANSACTION NOT ELIGIBLE: Non-sale, registrati...</td>\n",
       "      <td>True</td>\n",
       "      <td>False</td>\n",
       "      <td>False</td>\n",
       "      <td>0</td>\n",
       "      <td>Odometer reading is not collected at time of r...</td>\n",
       "      <td>No</td>\n",
       "      <td>No</td>\n",
       "    </tr>\n",
       "  </tbody>\n",
       "</table>\n",
       "<p>3 rows × 30 columns</p>\n",
       "</div>"
      ],
      "text/plain": [
       "  Clean Alternative Fuel Vehicle Type  VIN (1-10)  Model Year    Make  \\\n",
       "0      Battery Electric Vehicle (BEV)  5YJXCDE22G        2016   TESLA   \n",
       "1      Battery Electric Vehicle (BEV)  3C3CFFGE8D        2013    FIAT   \n",
       "2      Battery Electric Vehicle (BEV)  1N4AZ0CP6E        2014  NISSAN   \n",
       "\n",
       "     Model New or Used Vehicle  Sale Price DOL Transaction Date  \\\n",
       "0  Model X                 New           0        March 08 2017   \n",
       "1      500                Used           0     February 09 2017   \n",
       "2     Leaf                Used           0      January 05 2017   \n",
       "\n",
       "        Transaction Type  Transaction Year  ... DOL Vehicle ID  \\\n",
       "0  Original Registration              2017  ...        9059788   \n",
       "1  Original Registration              2017  ...      116849386   \n",
       "2  Original Registration              2017  ...      102634059   \n",
       "\n",
       "  Legislative District  \\\n",
       "0                 41.0   \n",
       "1                 48.0   \n",
       "2                 34.0   \n",
       "\n",
       "  2019 HB 2042 Clean Alternative Fuel Vehicle (CAFV) Eligibility  \\\n",
       "0  TRANSACTION NOT ELIGIBLE: Non-sale, registrati...               \n",
       "1  TRANSACTION NOT ELIGIBLE: Non-sale, registrati...               \n",
       "2  TRANSACTION NOT ELIGIBLE: Non-sale, registrati...               \n",
       "\n",
       "   Meets 2019 HB 2042 Electric Range Requirement  \\\n",
       "0                                           True   \n",
       "1                                           True   \n",
       "2                                           True   \n",
       "\n",
       "   Meets 2019 HB 2042 Sale Date Requirement  \\\n",
       "0                                     False   \n",
       "1                                     False   \n",
       "2                                     False   \n",
       "\n",
       "   Meets 2019 HB 2042 Sale Price/Value Requirement Odometer Reading  \\\n",
       "0                                            False                0   \n",
       "1                                            False                0   \n",
       "2                                            False                0   \n",
       "\n",
       "                                       Odometer Code  \\\n",
       "0  Odometer reading is not collected at time of r...   \n",
       "1  Odometer reading is not collected at time of r...   \n",
       "2  Odometer reading is not collected at time of r...   \n",
       "\n",
       "  Transportation Electrification Fee Paid  \\\n",
       "0                                      No   \n",
       "1                                      No   \n",
       "2                                      No   \n",
       "\n",
       "  Hybrid Vehicle Electrification Fee Paid  \n",
       "0                                      No  \n",
       "1                                      No  \n",
       "2                                      No  \n",
       "\n",
       "[3 rows x 30 columns]"
      ]
     },
     "execution_count": 3,
     "metadata": {},
     "output_type": "execute_result"
    }
   ],
   "source": [
    "df.head(3)"
   ]
  },
  {
   "cell_type": "code",
   "execution_count": 4,
   "id": "b6651fd1",
   "metadata": {
    "scrolled": true
   },
   "outputs": [
    {
     "name": "stdout",
     "output_type": "stream",
     "text": [
      "<class 'pandas.core.frame.DataFrame'>\n",
      "RangeIndex: 331974 entries, 0 to 331973\n",
      "Data columns (total 30 columns):\n",
      " #   Column                                                          Non-Null Count   Dtype  \n",
      "---  ------                                                          --------------   -----  \n",
      " 0   Clean Alternative Fuel Vehicle Type                             331974 non-null  object \n",
      " 1   VIN (1-10)                                                      331974 non-null  object \n",
      " 2   Model Year                                                      331974 non-null  int64  \n",
      " 3   Make                                                            331974 non-null  object \n",
      " 4   Model                                                           331974 non-null  object \n",
      " 5   New or Used Vehicle                                             331974 non-null  object \n",
      " 6   Sale Price                                                      331974 non-null  int64  \n",
      " 7   DOL Transaction Date                                            331974 non-null  object \n",
      " 8   Transaction Type                                                331974 non-null  object \n",
      " 9   Transaction Year                                                331974 non-null  int64  \n",
      " 10  Electric Vehicle Fee Paid                                       331974 non-null  object \n",
      " 11  County                                                          331935 non-null  object \n",
      " 12  City                                                            331888 non-null  object \n",
      " 13  Zip                                                             331955 non-null  float64\n",
      " 14  Electric Range                                                  331974 non-null  int64  \n",
      " 15  Base MSRP                                                       331974 non-null  int64  \n",
      " 16  2015 HB 2778 Exemption Eligibility                              331974 non-null  object \n",
      " 17  Sale Date                                                       25372 non-null   object \n",
      " 18  Vehicle Primary Use                                             331974 non-null  object \n",
      " 19  State of Residence                                              331962 non-null  object \n",
      " 20  DOL Vehicle ID                                                  331974 non-null  int64  \n",
      " 21  Legislative District                                            330730 non-null  float64\n",
      " 22  2019 HB 2042 Clean Alternative Fuel Vehicle (CAFV) Eligibility  331974 non-null  object \n",
      " 23  Meets 2019 HB 2042 Electric Range Requirement                   331974 non-null  bool   \n",
      " 24  Meets 2019 HB 2042 Sale Date Requirement                        331974 non-null  bool   \n",
      " 25  Meets 2019 HB 2042 Sale Price/Value Requirement                 331974 non-null  bool   \n",
      " 26  Odometer Reading                                                331974 non-null  int64  \n",
      " 27  Odometer Code                                                   331974 non-null  object \n",
      " 28  Transportation Electrification Fee Paid                         268854 non-null  object \n",
      " 29  Hybrid Vehicle Electrification Fee Paid                         268854 non-null  object \n",
      "dtypes: bool(3), float64(2), int64(7), object(18)\n",
      "memory usage: 69.3+ MB\n"
     ]
    }
   ],
   "source": [
    "df.info()"
   ]
  },
  {
   "cell_type": "code",
   "execution_count": 5,
   "id": "4e20a755",
   "metadata": {
    "scrolled": true
   },
   "outputs": [
    {
     "name": "stdout",
     "output_type": "stream",
     "text": [
      "(0, 'Clean Alternative Fuel Vehicle Type')\n",
      "(1, 'VIN (1-10)')\n",
      "(2, 'Model Year')\n",
      "(3, 'Make')\n",
      "(4, 'Model')\n",
      "(5, 'New or Used Vehicle')\n",
      "(6, 'Sale Price')\n",
      "(7, 'DOL Transaction Date')\n",
      "(8, 'Transaction Type')\n",
      "(9, 'Transaction Year')\n",
      "(10, 'Electric Vehicle Fee Paid')\n",
      "(11, 'County')\n",
      "(12, 'City')\n",
      "(13, 'Zip')\n",
      "(14, 'Electric Range')\n",
      "(15, 'Base MSRP')\n",
      "(16, '2015 HB 2778 Exemption Eligibility')\n",
      "(17, 'Sale Date')\n",
      "(18, 'Vehicle Primary Use')\n",
      "(19, 'State of Residence')\n",
      "(20, 'DOL Vehicle ID')\n",
      "(21, 'Legislative District')\n",
      "(22, '2019 HB 2042 Clean Alternative Fuel Vehicle (CAFV) Eligibility')\n",
      "(23, 'Meets 2019 HB 2042 Electric Range Requirement')\n",
      "(24, 'Meets 2019 HB 2042 Sale Date Requirement')\n",
      "(25, 'Meets 2019 HB 2042 Sale Price/Value Requirement')\n",
      "(26, 'Odometer Reading')\n",
      "(27, 'Odometer Code')\n",
      "(28, 'Transportation Electrification Fee Paid')\n",
      "(29, 'Hybrid Vehicle Electrification Fee Paid')\n"
     ]
    }
   ],
   "source": [
    "#Doing this to get the indexes of the columns I'll drop. \n",
    "for x in enumerate(list(df.columns)):\n",
    "    print (x)"
   ]
  },
  {
   "cell_type": "code",
   "execution_count": 6,
   "id": "9b90cdb5",
   "metadata": {},
   "outputs": [],
   "source": [
    "df = df.drop(df.columns[[1, 6, 8,10,15,16,17,18,20,21,22,23,24,25,26,27,28,29]], axis = 1)"
   ]
  },
  {
   "cell_type": "code",
   "execution_count": 7,
   "id": "1eee5ba3",
   "metadata": {},
   "outputs": [
    {
     "data": {
      "text/html": [
       "<div>\n",
       "<style scoped>\n",
       "    .dataframe tbody tr th:only-of-type {\n",
       "        vertical-align: middle;\n",
       "    }\n",
       "\n",
       "    .dataframe tbody tr th {\n",
       "        vertical-align: top;\n",
       "    }\n",
       "\n",
       "    .dataframe thead th {\n",
       "        text-align: right;\n",
       "    }\n",
       "</style>\n",
       "<table border=\"1\" class=\"dataframe\">\n",
       "  <thead>\n",
       "    <tr style=\"text-align: right;\">\n",
       "      <th></th>\n",
       "      <th>Clean Alternative Fuel Vehicle Type</th>\n",
       "      <th>Model Year</th>\n",
       "      <th>Make</th>\n",
       "      <th>Model</th>\n",
       "      <th>New or Used Vehicle</th>\n",
       "      <th>DOL Transaction Date</th>\n",
       "      <th>Transaction Year</th>\n",
       "      <th>County</th>\n",
       "      <th>City</th>\n",
       "      <th>Zip</th>\n",
       "      <th>Electric Range</th>\n",
       "      <th>State of Residence</th>\n",
       "    </tr>\n",
       "  </thead>\n",
       "  <tbody>\n",
       "    <tr>\n",
       "      <th>0</th>\n",
       "      <td>Battery Electric Vehicle (BEV)</td>\n",
       "      <td>2016</td>\n",
       "      <td>TESLA</td>\n",
       "      <td>Model X</td>\n",
       "      <td>New</td>\n",
       "      <td>March 08 2017</td>\n",
       "      <td>2017</td>\n",
       "      <td>King</td>\n",
       "      <td>BELLEVUE</td>\n",
       "      <td>98006.0</td>\n",
       "      <td>200</td>\n",
       "      <td>WA</td>\n",
       "    </tr>\n",
       "    <tr>\n",
       "      <th>1</th>\n",
       "      <td>Battery Electric Vehicle (BEV)</td>\n",
       "      <td>2013</td>\n",
       "      <td>FIAT</td>\n",
       "      <td>500</td>\n",
       "      <td>Used</td>\n",
       "      <td>February 09 2017</td>\n",
       "      <td>2017</td>\n",
       "      <td>King</td>\n",
       "      <td>KIRKLAND</td>\n",
       "      <td>98033.0</td>\n",
       "      <td>87</td>\n",
       "      <td>WA</td>\n",
       "    </tr>\n",
       "    <tr>\n",
       "      <th>2</th>\n",
       "      <td>Battery Electric Vehicle (BEV)</td>\n",
       "      <td>2014</td>\n",
       "      <td>NISSAN</td>\n",
       "      <td>Leaf</td>\n",
       "      <td>Used</td>\n",
       "      <td>January 05 2017</td>\n",
       "      <td>2017</td>\n",
       "      <td>King</td>\n",
       "      <td>SEATTLE</td>\n",
       "      <td>98116.0</td>\n",
       "      <td>84</td>\n",
       "      <td>WA</td>\n",
       "    </tr>\n",
       "    <tr>\n",
       "      <th>3</th>\n",
       "      <td>Plug-in Hybrid Electric Vehicle (PHEV)</td>\n",
       "      <td>2017</td>\n",
       "      <td>CHEVROLET</td>\n",
       "      <td>Volt</td>\n",
       "      <td>New</td>\n",
       "      <td>January 18 2017</td>\n",
       "      <td>2017</td>\n",
       "      <td>King</td>\n",
       "      <td>BURIEN</td>\n",
       "      <td>98166.0</td>\n",
       "      <td>53</td>\n",
       "      <td>WA</td>\n",
       "    </tr>\n",
       "    <tr>\n",
       "      <th>4</th>\n",
       "      <td>Battery Electric Vehicle (BEV)</td>\n",
       "      <td>2017</td>\n",
       "      <td>BMW</td>\n",
       "      <td>i3</td>\n",
       "      <td>New</td>\n",
       "      <td>January 18 2017</td>\n",
       "      <td>2017</td>\n",
       "      <td>Clark</td>\n",
       "      <td>VANCOUVER</td>\n",
       "      <td>98685.0</td>\n",
       "      <td>81</td>\n",
       "      <td>WA</td>\n",
       "    </tr>\n",
       "  </tbody>\n",
       "</table>\n",
       "</div>"
      ],
      "text/plain": [
       "      Clean Alternative Fuel Vehicle Type  Model Year       Make    Model  \\\n",
       "0          Battery Electric Vehicle (BEV)        2016      TESLA  Model X   \n",
       "1          Battery Electric Vehicle (BEV)        2013       FIAT      500   \n",
       "2          Battery Electric Vehicle (BEV)        2014     NISSAN     Leaf   \n",
       "3  Plug-in Hybrid Electric Vehicle (PHEV)        2017  CHEVROLET     Volt   \n",
       "4          Battery Electric Vehicle (BEV)        2017        BMW       i3   \n",
       "\n",
       "  New or Used Vehicle DOL Transaction Date  Transaction Year County  \\\n",
       "0                 New        March 08 2017              2017   King   \n",
       "1                Used     February 09 2017              2017   King   \n",
       "2                Used      January 05 2017              2017   King   \n",
       "3                 New      January 18 2017              2017   King   \n",
       "4                 New      January 18 2017              2017  Clark   \n",
       "\n",
       "        City      Zip  Electric Range State of Residence  \n",
       "0   BELLEVUE  98006.0             200                 WA  \n",
       "1   KIRKLAND  98033.0              87                 WA  \n",
       "2    SEATTLE  98116.0              84                 WA  \n",
       "3     BURIEN  98166.0              53                 WA  \n",
       "4  VANCOUVER  98685.0              81                 WA  "
      ]
     },
     "execution_count": 7,
     "metadata": {},
     "output_type": "execute_result"
    }
   ],
   "source": [
    "df.head()"
   ]
  },
  {
   "cell_type": "code",
   "execution_count": 8,
   "id": "71073e7c",
   "metadata": {},
   "outputs": [
    {
     "data": {
      "text/plain": [
       "array(['WA', 'MD', 'AZ', 'VA', 'GA', 'MI', 'PA', 'CA', 'NC', 'OR', 'OH',\n",
       "       'TX', 'FL', 'CO', nan, 'WI', 'MN', 'CT', 'NH', 'NV', 'IN', 'MT',\n",
       "       'IL', 'AL', 'DC', 'HI', 'NE', 'NY', 'NJ', 'UT', 'KY', 'TN', 'LA',\n",
       "       'MA', 'OK', 'WY', 'DE', 'SC', 'AK', 'MO', 'NM', 'ID', 'KS', 'MS',\n",
       "       'SD', 'ND', 'RI'], dtype=object)"
      ]
     },
     "execution_count": 8,
     "metadata": {},
     "output_type": "execute_result"
    }
   ],
   "source": [
    "df['State of Residence'].unique()"
   ]
  },
  {
   "cell_type": "code",
   "execution_count": 9,
   "id": "8bc71423",
   "metadata": {},
   "outputs": [],
   "source": [
    "#Selecting just the records of the state Washington.\n",
    "mask = df['State of Residence'] == 'WA'"
   ]
  },
  {
   "cell_type": "code",
   "execution_count": 10,
   "id": "b58bd2c6",
   "metadata": {
    "scrolled": true
   },
   "outputs": [
    {
     "data": {
      "text/html": [
       "<div>\n",
       "<style scoped>\n",
       "    .dataframe tbody tr th:only-of-type {\n",
       "        vertical-align: middle;\n",
       "    }\n",
       "\n",
       "    .dataframe tbody tr th {\n",
       "        vertical-align: top;\n",
       "    }\n",
       "\n",
       "    .dataframe thead th {\n",
       "        text-align: right;\n",
       "    }\n",
       "</style>\n",
       "<table border=\"1\" class=\"dataframe\">\n",
       "  <thead>\n",
       "    <tr style=\"text-align: right;\">\n",
       "      <th></th>\n",
       "      <th>Clean Alternative Fuel Vehicle Type</th>\n",
       "      <th>Model Year</th>\n",
       "      <th>Make</th>\n",
       "      <th>Model</th>\n",
       "      <th>New or Used Vehicle</th>\n",
       "      <th>DOL Transaction Date</th>\n",
       "      <th>Transaction Year</th>\n",
       "      <th>County</th>\n",
       "      <th>City</th>\n",
       "      <th>Zip</th>\n",
       "      <th>Electric Range</th>\n",
       "      <th>State of Residence</th>\n",
       "    </tr>\n",
       "  </thead>\n",
       "  <tbody>\n",
       "    <tr>\n",
       "      <th>0</th>\n",
       "      <td>Battery Electric Vehicle (BEV)</td>\n",
       "      <td>2016</td>\n",
       "      <td>TESLA</td>\n",
       "      <td>Model X</td>\n",
       "      <td>New</td>\n",
       "      <td>March 08 2017</td>\n",
       "      <td>2017</td>\n",
       "      <td>King</td>\n",
       "      <td>BELLEVUE</td>\n",
       "      <td>98006.0</td>\n",
       "      <td>200</td>\n",
       "      <td>WA</td>\n",
       "    </tr>\n",
       "    <tr>\n",
       "      <th>1</th>\n",
       "      <td>Battery Electric Vehicle (BEV)</td>\n",
       "      <td>2013</td>\n",
       "      <td>FIAT</td>\n",
       "      <td>500</td>\n",
       "      <td>Used</td>\n",
       "      <td>February 09 2017</td>\n",
       "      <td>2017</td>\n",
       "      <td>King</td>\n",
       "      <td>KIRKLAND</td>\n",
       "      <td>98033.0</td>\n",
       "      <td>87</td>\n",
       "      <td>WA</td>\n",
       "    </tr>\n",
       "  </tbody>\n",
       "</table>\n",
       "</div>"
      ],
      "text/plain": [
       "  Clean Alternative Fuel Vehicle Type  Model Year   Make    Model  \\\n",
       "0      Battery Electric Vehicle (BEV)        2016  TESLA  Model X   \n",
       "1      Battery Electric Vehicle (BEV)        2013   FIAT      500   \n",
       "\n",
       "  New or Used Vehicle DOL Transaction Date  Transaction Year County      City  \\\n",
       "0                 New        March 08 2017              2017   King  BELLEVUE   \n",
       "1                Used     February 09 2017              2017   King  KIRKLAND   \n",
       "\n",
       "       Zip  Electric Range State of Residence  \n",
       "0  98006.0             200                 WA  \n",
       "1  98033.0              87                 WA  "
      ]
     },
     "execution_count": 10,
     "metadata": {},
     "output_type": "execute_result"
    }
   ],
   "source": [
    "df[mask].head(2)"
   ]
  },
  {
   "cell_type": "code",
   "execution_count": 21,
   "id": "22d12715",
   "metadata": {},
   "outputs": [],
   "source": [
    "dfw = df[mask].copy(deep=True)"
   ]
  },
  {
   "cell_type": "code",
   "execution_count": 22,
   "id": "486e829d",
   "metadata": {},
   "outputs": [],
   "source": [
    "#Verifiying that we just hae records from Washington"
   ]
  },
  {
   "cell_type": "code",
   "execution_count": 23,
   "id": "e4084966",
   "metadata": {},
   "outputs": [
    {
     "data": {
      "text/plain": [
       "array(['WA'], dtype=object)"
      ]
     },
     "execution_count": 23,
     "metadata": {},
     "output_type": "execute_result"
    }
   ],
   "source": [
    "dfw['State of Residence'].unique()"
   ]
  },
  {
   "cell_type": "code",
   "execution_count": 24,
   "id": "38e95a58",
   "metadata": {},
   "outputs": [],
   "source": [
    "#Verifying just having the 39 counties of WA"
   ]
  },
  {
   "cell_type": "code",
   "execution_count": 25,
   "id": "43fd92c2",
   "metadata": {},
   "outputs": [
    {
     "data": {
      "text/plain": [
       "39"
      ]
     },
     "execution_count": 25,
     "metadata": {},
     "output_type": "execute_result"
    }
   ],
   "source": [
    "dfw.County.nunique()"
   ]
  },
  {
   "cell_type": "code",
   "execution_count": 26,
   "id": "97f86376",
   "metadata": {},
   "outputs": [
    {
     "data": {
      "text/plain": [
       "array([2017, 2016, 2018, 2010, 2011, 2013, 2012, 2014, 2019, 2015, 2020,\n",
       "       2021])"
      ]
     },
     "execution_count": 26,
     "metadata": {},
     "output_type": "execute_result"
    }
   ],
   "source": [
    "dfw['Transaction Year'].unique()"
   ]
  },
  {
   "cell_type": "code",
   "execution_count": 27,
   "id": "5f83b2dc",
   "metadata": {},
   "outputs": [],
   "source": [
    "#Filtering by the year"
   ]
  },
  {
   "cell_type": "code",
   "execution_count": 28,
   "id": "35a19212",
   "metadata": {},
   "outputs": [],
   "source": [
    "dfw = dfw[dfw['Transaction Year'].between(2020, 2021, inclusive=True)]"
   ]
  },
  {
   "cell_type": "code",
   "execution_count": 29,
   "id": "24934ddf",
   "metadata": {},
   "outputs": [
    {
     "data": {
      "text/plain": [
       "array([2020, 2021])"
      ]
     },
     "execution_count": 29,
     "metadata": {},
     "output_type": "execute_result"
    }
   ],
   "source": [
    "dfw['Transaction Year'].unique()"
   ]
  },
  {
   "cell_type": "code",
   "execution_count": 30,
   "id": "ce4b297b",
   "metadata": {},
   "outputs": [
    {
     "data": {
      "text/plain": [
       "99"
      ]
     },
     "execution_count": 30,
     "metadata": {},
     "output_type": "execute_result"
    }
   ],
   "source": [
    "dfw['Electric Range'].nunique()"
   ]
  },
  {
   "cell_type": "code",
   "execution_count": 31,
   "id": "8464fd74",
   "metadata": {},
   "outputs": [],
   "source": [
    "#Checking the minimun and maximun values for the range"
   ]
  },
  {
   "cell_type": "code",
   "execution_count": 32,
   "id": "55e2fe60",
   "metadata": {
    "scrolled": true
   },
   "outputs": [
    {
     "data": {
      "text/html": [
       "<div>\n",
       "<style scoped>\n",
       "    .dataframe tbody tr th:only-of-type {\n",
       "        vertical-align: middle;\n",
       "    }\n",
       "\n",
       "    .dataframe tbody tr th {\n",
       "        vertical-align: top;\n",
       "    }\n",
       "\n",
       "    .dataframe thead th {\n",
       "        text-align: right;\n",
       "    }\n",
       "</style>\n",
       "<table border=\"1\" class=\"dataframe\">\n",
       "  <thead>\n",
       "    <tr style=\"text-align: right;\">\n",
       "      <th></th>\n",
       "      <th>Clean Alternative Fuel Vehicle Type</th>\n",
       "      <th>Model Year</th>\n",
       "      <th>Make</th>\n",
       "      <th>Model</th>\n",
       "      <th>New or Used Vehicle</th>\n",
       "      <th>DOL Transaction Date</th>\n",
       "      <th>Transaction Year</th>\n",
       "      <th>County</th>\n",
       "      <th>City</th>\n",
       "      <th>Zip</th>\n",
       "      <th>Electric Range</th>\n",
       "      <th>State of Residence</th>\n",
       "    </tr>\n",
       "  </thead>\n",
       "  <tbody>\n",
       "    <tr>\n",
       "      <th>64730</th>\n",
       "      <td>Battery Electric Vehicle (BEV)</td>\n",
       "      <td>2021</td>\n",
       "      <td>TESLA</td>\n",
       "      <td>Model 3</td>\n",
       "      <td>New</td>\n",
       "      <td>April 07 2021</td>\n",
       "      <td>2021</td>\n",
       "      <td>King</td>\n",
       "      <td>BELLEVUE</td>\n",
       "      <td>98005.0</td>\n",
       "      <td>0</td>\n",
       "      <td>WA</td>\n",
       "    </tr>\n",
       "    <tr>\n",
       "      <th>254185</th>\n",
       "      <td>Battery Electric Vehicle (BEV)</td>\n",
       "      <td>2021</td>\n",
       "      <td>TESLA</td>\n",
       "      <td>Model Y</td>\n",
       "      <td>New</td>\n",
       "      <td>May 03 2021</td>\n",
       "      <td>2021</td>\n",
       "      <td>Snohomish</td>\n",
       "      <td>EDMONDS</td>\n",
       "      <td>98026.0</td>\n",
       "      <td>0</td>\n",
       "      <td>WA</td>\n",
       "    </tr>\n",
       "  </tbody>\n",
       "</table>\n",
       "</div>"
      ],
      "text/plain": [
       "       Clean Alternative Fuel Vehicle Type  Model Year   Make    Model  \\\n",
       "64730       Battery Electric Vehicle (BEV)        2021  TESLA  Model 3   \n",
       "254185      Battery Electric Vehicle (BEV)        2021  TESLA  Model Y   \n",
       "\n",
       "       New or Used Vehicle DOL Transaction Date  Transaction Year     County  \\\n",
       "64730                  New        April 07 2021              2021       King   \n",
       "254185                 New          May 03 2021              2021  Snohomish   \n",
       "\n",
       "            City      Zip  Electric Range State of Residence  \n",
       "64730   BELLEVUE  98005.0               0                 WA  \n",
       "254185   EDMONDS  98026.0               0                 WA  "
      ]
     },
     "execution_count": 32,
     "metadata": {},
     "output_type": "execute_result"
    }
   ],
   "source": [
    "dfw.sort_values(by= 'Electric Range', ascending=True).head(2)"
   ]
  },
  {
   "cell_type": "code",
   "execution_count": 33,
   "id": "c1c9df3c",
   "metadata": {},
   "outputs": [],
   "source": [
    "#I'll drop the rows where the Electric Range is 0. "
   ]
  },
  {
   "cell_type": "code",
   "execution_count": 34,
   "id": "b2cc8ffb",
   "metadata": {
    "scrolled": true
   },
   "outputs": [
    {
     "data": {
      "text/html": [
       "<div>\n",
       "<style scoped>\n",
       "    .dataframe tbody tr th:only-of-type {\n",
       "        vertical-align: middle;\n",
       "    }\n",
       "\n",
       "    .dataframe tbody tr th {\n",
       "        vertical-align: top;\n",
       "    }\n",
       "\n",
       "    .dataframe thead th {\n",
       "        text-align: right;\n",
       "    }\n",
       "</style>\n",
       "<table border=\"1\" class=\"dataframe\">\n",
       "  <thead>\n",
       "    <tr style=\"text-align: right;\">\n",
       "      <th></th>\n",
       "      <th>Clean Alternative Fuel Vehicle Type</th>\n",
       "      <th>Model Year</th>\n",
       "      <th>Make</th>\n",
       "      <th>Model</th>\n",
       "      <th>New or Used Vehicle</th>\n",
       "      <th>DOL Transaction Date</th>\n",
       "      <th>Transaction Year</th>\n",
       "      <th>County</th>\n",
       "      <th>City</th>\n",
       "      <th>Zip</th>\n",
       "      <th>Electric Range</th>\n",
       "      <th>State of Residence</th>\n",
       "    </tr>\n",
       "  </thead>\n",
       "  <tbody>\n",
       "    <tr>\n",
       "      <th>19273</th>\n",
       "      <td>Battery Electric Vehicle (BEV)</td>\n",
       "      <td>2020</td>\n",
       "      <td>TESLA</td>\n",
       "      <td>Model S</td>\n",
       "      <td>Used</td>\n",
       "      <td>April 14 2021</td>\n",
       "      <td>2021</td>\n",
       "      <td>King</td>\n",
       "      <td>BELLEVUE</td>\n",
       "      <td>98008.0</td>\n",
       "      <td>337</td>\n",
       "      <td>WA</td>\n",
       "    </tr>\n",
       "    <tr>\n",
       "      <th>91814</th>\n",
       "      <td>Battery Electric Vehicle (BEV)</td>\n",
       "      <td>2020</td>\n",
       "      <td>TESLA</td>\n",
       "      <td>Model S</td>\n",
       "      <td>New</td>\n",
       "      <td>January 21 2020</td>\n",
       "      <td>2020</td>\n",
       "      <td>King</td>\n",
       "      <td>SEATTLE</td>\n",
       "      <td>98122.0</td>\n",
       "      <td>337</td>\n",
       "      <td>WA</td>\n",
       "    </tr>\n",
       "  </tbody>\n",
       "</table>\n",
       "</div>"
      ],
      "text/plain": [
       "      Clean Alternative Fuel Vehicle Type  Model Year   Make    Model  \\\n",
       "19273      Battery Electric Vehicle (BEV)        2020  TESLA  Model S   \n",
       "91814      Battery Electric Vehicle (BEV)        2020  TESLA  Model S   \n",
       "\n",
       "      New or Used Vehicle DOL Transaction Date  Transaction Year County  \\\n",
       "19273                Used        April 14 2021              2021   King   \n",
       "91814                 New      January 21 2020              2020   King   \n",
       "\n",
       "           City      Zip  Electric Range State of Residence  \n",
       "19273  BELLEVUE  98008.0             337                 WA  \n",
       "91814   SEATTLE  98122.0             337                 WA  "
      ]
     },
     "execution_count": 34,
     "metadata": {},
     "output_type": "execute_result"
    }
   ],
   "source": [
    "dfw.sort_values(by= 'Electric Range', ascending=False).head(2)"
   ]
  },
  {
   "cell_type": "code",
   "execution_count": 35,
   "id": "8d6d3ba9",
   "metadata": {},
   "outputs": [],
   "source": [
    "#The higher end of the range seems to be ok"
   ]
  },
  {
   "cell_type": "code",
   "execution_count": 36,
   "id": "a20afafe",
   "metadata": {},
   "outputs": [],
   "source": [
    "#Filtering out those that have 0 as Electric Range (missing value)"
   ]
  },
  {
   "cell_type": "code",
   "execution_count": 37,
   "id": "dfb7352b",
   "metadata": {},
   "outputs": [],
   "source": [
    "dfw = dfw[~dfw['Electric Range'].between(0,1, inclusive=True)]"
   ]
  },
  {
   "cell_type": "code",
   "execution_count": 38,
   "id": "f3935310",
   "metadata": {
    "scrolled": true
   },
   "outputs": [
    {
     "name": "stdout",
     "output_type": "stream",
     "text": [
      "<class 'pandas.core.frame.DataFrame'>\n",
      "Int64Index: 116565 entries, 1965 to 331621\n",
      "Data columns (total 12 columns):\n",
      " #   Column                               Non-Null Count   Dtype  \n",
      "---  ------                               --------------   -----  \n",
      " 0   Clean Alternative Fuel Vehicle Type  116565 non-null  object \n",
      " 1   Model Year                           116565 non-null  int64  \n",
      " 2   Make                                 116565 non-null  object \n",
      " 3   Model                                116565 non-null  object \n",
      " 4   New or Used Vehicle                  116565 non-null  object \n",
      " 5   DOL Transaction Date                 116565 non-null  object \n",
      " 6   Transaction Year                     116565 non-null  int64  \n",
      " 7   County                               116565 non-null  object \n",
      " 8   City                                 116531 non-null  object \n",
      " 9   Zip                                  116559 non-null  float64\n",
      " 10  Electric Range                       116565 non-null  int64  \n",
      " 11  State of Residence                   116565 non-null  object \n",
      "dtypes: float64(1), int64(3), object(8)\n",
      "memory usage: 11.6+ MB\n"
     ]
    }
   ],
   "source": [
    "dfw.info()"
   ]
  },
  {
   "cell_type": "code",
   "execution_count": 39,
   "id": "de60976d",
   "metadata": {},
   "outputs": [],
   "source": [
    "#Droping the null values.\n",
    "dfw.dropna(how='any',inplace=True)"
   ]
  },
  {
   "cell_type": "code",
   "execution_count": 40,
   "id": "ad2f14ce",
   "metadata": {},
   "outputs": [],
   "source": [
    "#Maybe getting rid of the hybrids and just focusing on the purely electrics? \n",
    "dfw = dfw[dfw['Clean Alternative Fuel Vehicle Type'] == 'Battery Electric Vehicle (BEV)']"
   ]
  },
  {
   "cell_type": "code",
   "execution_count": 41,
   "id": "2dd3d04b",
   "metadata": {
    "scrolled": true
   },
   "outputs": [
    {
     "name": "stdout",
     "output_type": "stream",
     "text": [
      "<class 'pandas.core.frame.DataFrame'>\n",
      "Int64Index: 81607 entries, 1965 to 331621\n",
      "Data columns (total 12 columns):\n",
      " #   Column                               Non-Null Count  Dtype  \n",
      "---  ------                               --------------  -----  \n",
      " 0   Clean Alternative Fuel Vehicle Type  81607 non-null  object \n",
      " 1   Model Year                           81607 non-null  int64  \n",
      " 2   Make                                 81607 non-null  object \n",
      " 3   Model                                81607 non-null  object \n",
      " 4   New or Used Vehicle                  81607 non-null  object \n",
      " 5   DOL Transaction Date                 81607 non-null  object \n",
      " 6   Transaction Year                     81607 non-null  int64  \n",
      " 7   County                               81607 non-null  object \n",
      " 8   City                                 81607 non-null  object \n",
      " 9   Zip                                  81607 non-null  float64\n",
      " 10  Electric Range                       81607 non-null  int64  \n",
      " 11  State of Residence                   81607 non-null  object \n",
      "dtypes: float64(1), int64(3), object(8)\n",
      "memory usage: 8.1+ MB\n"
     ]
    }
   ],
   "source": [
    "dfw.info()"
   ]
  },
  {
   "cell_type": "code",
   "execution_count": 42,
   "id": "0310fe30",
   "metadata": {},
   "outputs": [],
   "source": [
    "dfwc = dfw.groupby(by='County')"
   ]
  },
  {
   "cell_type": "code",
   "execution_count": 54,
   "id": "575061ca",
   "metadata": {
    "scrolled": true
   },
   "outputs": [
    {
     "data": {
      "text/plain": [
       "21"
      ]
     },
     "execution_count": 54,
     "metadata": {},
     "output_type": "execute_result"
    }
   ],
   "source": [
    "dfwc.get_group('Adams').shape[0]"
   ]
  },
  {
   "cell_type": "code",
   "execution_count": 53,
   "id": "11da66b0",
   "metadata": {},
   "outputs": [
    {
     "data": {
      "text/plain": [
       "36"
      ]
     },
     "execution_count": 53,
     "metadata": {},
     "output_type": "execute_result"
    }
   ],
   "source": [
    "dfwc.get_group('Asotin').shape[0]"
   ]
  },
  {
   "cell_type": "markdown",
   "id": "aab83b5d",
   "metadata": {},
   "source": [
    "#Gonna make the random sample to get around 50.000 values. \n",
    "#For this, I'll be getting 42% of each group after grouping by county. "
   ]
  },
  {
   "cell_type": "markdown",
   "id": "4e9056c6",
   "metadata": {},
   "source": [
    "dfwc = dfw.groupby(by=['County']).sample(frac=.42, random_state=23)"
   ]
  },
  {
   "cell_type": "markdown",
   "id": "53f8e1f4",
   "metadata": {
    "scrolled": true
   },
   "source": [
    "print(f'There are {dfwc.shape[0]} rows now')"
   ]
  },
  {
   "cell_type": "markdown",
   "id": "fc5eed90",
   "metadata": {},
   "source": [
    "dfwc.head(2)"
   ]
  },
  {
   "cell_type": "markdown",
   "id": "c2687445",
   "metadata": {
    "scrolled": true
   },
   "source": [
    "#I think data is clean and small enough to start working with it on Google Sheets. \n",
    "#Or maybe we want to do some EDA before that? "
   ]
  },
  {
   "cell_type": "markdown",
   "id": "1411a8cb",
   "metadata": {},
   "source": [
    "#Top 5 of brands in the State"
   ]
  },
  {
   "cell_type": "code",
   "execution_count": 56,
   "id": "de089254",
   "metadata": {},
   "outputs": [
    {
     "data": {
      "text/plain": [
       "<AxesSubplot:xlabel='Make'>"
      ]
     },
     "execution_count": 56,
     "metadata": {},
     "output_type": "execute_result"
    },
    {
     "data": {
      "image/png": "[encoded data removed]",
      "text/plain": [
       "<Figure size 432x288 with 1 Axes>"
      ]
     },
     "metadata": {
      "needs_background": "light"
     },
     "output_type": "display_data"
    }
   ],
   "source": [
    "dfw.groupby('Make').size().sort_values(ascending=False)[:5].plot(kind='bar')"
   ]
  },
  {
   "cell_type": "code",
   "execution_count": 57,
   "id": "997763a2",
   "metadata": {},
   "outputs": [
    {
     "data": {
      "text/plain": [
       "<AxesSubplot:ylabel='None'>"
      ]
     },
     "execution_count": 57,
     "metadata": {},
     "output_type": "execute_result"
    },
    {
     "data": {
      "image/png": "[encoded data removed]",
      "text/plain": [
       "<Figure size 432x288 with 1 Axes>"
      ]
     },
     "metadata": {},
     "output_type": "display_data"
    }
   ],
   "source": [
    "dfw.groupby('Make').size().sort_values(ascending=False)[0:5].plot(kind='pie', autopct='%.2f')"
   ]
  },
  {
   "cell_type": "code",
   "execution_count": 270,
   "id": "8f4f5cd6",
   "metadata": {},
   "outputs": [],
   "source": [
    "#We can see how Tesla have dominance in the state, but... Let's see what insights can we get,\n",
    "#when we start analyzing on the county level. "
   ]
  },
  {
   "cell_type": "code",
   "execution_count": 271,
   "id": "a00e5db3",
   "metadata": {},
   "outputs": [],
   "source": [
    "#Alright, I think I'm ready to see the data in Google Sheets. "
   ]
  },
  {
   "cell_type": "code",
   "execution_count": 58,
   "id": "c70bdc6c",
   "metadata": {},
   "outputs": [],
   "source": [
    "dfw.to_csv('Data88.csv', index=False)"
   ]
  },
  {
   "cell_type": "code",
   "execution_count": 61,
   "id": "93e9d3af",
   "metadata": {},
   "outputs": [],
   "source": [
    "df2 = pd.read_csv('Data88.csv')"
   ]
  },
  {
   "cell_type": "code",
   "execution_count": 62,
   "id": "7143e1e3",
   "metadata": {},
   "outputs": [
    {
     "data": {
      "text/html": [
       "<div>\n",
       "<style scoped>\n",
       "    .dataframe tbody tr th:only-of-type {\n",
       "        vertical-align: middle;\n",
       "    }\n",
       "\n",
       "    .dataframe tbody tr th {\n",
       "        vertical-align: top;\n",
       "    }\n",
       "\n",
       "    .dataframe thead th {\n",
       "        text-align: right;\n",
       "    }\n",
       "</style>\n",
       "<table border=\"1\" class=\"dataframe\">\n",
       "  <thead>\n",
       "    <tr style=\"text-align: right;\">\n",
       "      <th></th>\n",
       "      <th>Clean Alternative Fuel Vehicle Type</th>\n",
       "      <th>Model Year</th>\n",
       "      <th>Make</th>\n",
       "      <th>Model</th>\n",
       "      <th>New or Used Vehicle</th>\n",
       "      <th>DOL Transaction Date</th>\n",
       "      <th>Transaction Year</th>\n",
       "      <th>County</th>\n",
       "      <th>City</th>\n",
       "      <th>Zip</th>\n",
       "      <th>Electric Range</th>\n",
       "      <th>State of Residence</th>\n",
       "    </tr>\n",
       "  </thead>\n",
       "  <tbody>\n",
       "    <tr>\n",
       "      <th>0</th>\n",
       "      <td>Battery Electric Vehicle (BEV)</td>\n",
       "      <td>2019</td>\n",
       "      <td>NISSAN</td>\n",
       "      <td>Leaf</td>\n",
       "      <td>New</td>\n",
       "      <td>January 15 2020</td>\n",
       "      <td>2020</td>\n",
       "      <td>Snohomish</td>\n",
       "      <td>WOODWAY</td>\n",
       "      <td>98020.0</td>\n",
       "      <td>150</td>\n",
       "      <td>WA</td>\n",
       "    </tr>\n",
       "    <tr>\n",
       "      <th>1</th>\n",
       "      <td>Battery Electric Vehicle (BEV)</td>\n",
       "      <td>2020</td>\n",
       "      <td>TESLA</td>\n",
       "      <td>Model 3</td>\n",
       "      <td>New</td>\n",
       "      <td>January 21 2020</td>\n",
       "      <td>2020</td>\n",
       "      <td>King</td>\n",
       "      <td>SEATTLE</td>\n",
       "      <td>98117.0</td>\n",
       "      <td>322</td>\n",
       "      <td>WA</td>\n",
       "    </tr>\n",
       "    <tr>\n",
       "      <th>2</th>\n",
       "      <td>Battery Electric Vehicle (BEV)</td>\n",
       "      <td>2011</td>\n",
       "      <td>NISSAN</td>\n",
       "      <td>Leaf</td>\n",
       "      <td>Used</td>\n",
       "      <td>January 14 2020</td>\n",
       "      <td>2020</td>\n",
       "      <td>Thurston</td>\n",
       "      <td>OLYMPIA</td>\n",
       "      <td>98501.0</td>\n",
       "      <td>73</td>\n",
       "      <td>WA</td>\n",
       "    </tr>\n",
       "  </tbody>\n",
       "</table>\n",
       "</div>"
      ],
      "text/plain": [
       "  Clean Alternative Fuel Vehicle Type  Model Year    Make    Model  \\\n",
       "0      Battery Electric Vehicle (BEV)        2019  NISSAN     Leaf   \n",
       "1      Battery Electric Vehicle (BEV)        2020   TESLA  Model 3   \n",
       "2      Battery Electric Vehicle (BEV)        2011  NISSAN     Leaf   \n",
       "\n",
       "  New or Used Vehicle DOL Transaction Date  Transaction Year     County  \\\n",
       "0                 New      January 15 2020              2020  Snohomish   \n",
       "1                 New      January 21 2020              2020       King   \n",
       "2                Used      January 14 2020              2020   Thurston   \n",
       "\n",
       "      City      Zip  Electric Range State of Residence  \n",
       "0  WOODWAY  98020.0             150                 WA  \n",
       "1  SEATTLE  98117.0             322                 WA  \n",
       "2  OLYMPIA  98501.0              73                 WA  "
      ]
     },
     "execution_count": 62,
     "metadata": {},
     "output_type": "execute_result"
    }
   ],
   "source": [
    "df2.head(3)"
   ]
  },
  {
   "cell_type": "code",
   "execution_count": null,
   "id": "8e86f057",
   "metadata": {},
   "outputs": [],
   "source": []
  }
 ],
 "metadata": {
  "kernelspec": {
   "display_name": "Python 3",
   "language": "python",
   "name": "python3"
  },
  "language_info": {
   "codemirror_mode": {
    "name": "ipython",
    "version": 3
   },
   "file_extension": ".py",
   "mimetype": "text/x-python",
   "name": "python",
   "nbconvert_exporter": "python",
   "pygments_lexer": "ipython3",
   "version": "3.8.8"
  }
 },
 "nbformat": 4,
 "nbformat_minor": 5
}
